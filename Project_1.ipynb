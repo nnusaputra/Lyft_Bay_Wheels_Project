{
 "cells": [
  {
   "cell_type": "markdown",
   "metadata": {},
   "source": [
    "# Lyft Bay Wheels Biking Sales Analysis"
   ]
  },
  {
   "cell_type": "code",
   "execution_count": 17,
   "metadata": {},
   "outputs": [],
   "source": [
    "import pandas as pd\n",
    "import seaborn as sns\n",
    "import matplotlib.pyplot as plt"
   ]
  },
  {
   "cell_type": "code",
   "execution_count": 3,
   "metadata": {},
   "outputs": [
    {
     "data": {
      "text/html": [
       "<div>\n",
       "<style scoped>\n",
       "    .dataframe tbody tr th:only-of-type {\n",
       "        vertical-align: middle;\n",
       "    }\n",
       "\n",
       "    .dataframe tbody tr th {\n",
       "        vertical-align: top;\n",
       "    }\n",
       "\n",
       "    .dataframe thead th {\n",
       "        text-align: right;\n",
       "    }\n",
       "</style>\n",
       "<table border=\"1\" class=\"dataframe\">\n",
       "  <thead>\n",
       "    <tr style=\"text-align: right;\">\n",
       "      <th></th>\n",
       "      <th>f0_</th>\n",
       "    </tr>\n",
       "  </thead>\n",
       "  <tbody>\n",
       "    <tr>\n",
       "      <th>0</th>\n",
       "      <td>983648</td>\n",
       "    </tr>\n",
       "  </tbody>\n",
       "</table>\n",
       "</div>"
      ],
      "text/plain": [
       "      f0_\n",
       "0  983648"
      ]
     },
     "execution_count": 3,
     "metadata": {},
     "output_type": "execute_result"
    }
   ],
   "source": [
    "%%bigquery\n",
    "SELECT count(*)\n",
    "FROM `bigquery-public-data.san_francisco.bikeshare_trips`"
   ]
  },
  {
   "cell_type": "code",
   "execution_count": 4,
   "metadata": {},
   "outputs": [],
   "source": [
    "%%bigquery sub_types\n",
    "\n",
    "select subscriber_type, count(trip_id) as trips from `bigquery-public-data.san_francisco.bikeshare_trips` a group by 1 order by trips desc"
   ]
  },
  {
   "cell_type": "code",
   "execution_count": 5,
   "metadata": {},
   "outputs": [
    {
     "data": {
      "text/html": [
       "<div>\n",
       "<style scoped>\n",
       "    .dataframe tbody tr th:only-of-type {\n",
       "        vertical-align: middle;\n",
       "    }\n",
       "\n",
       "    .dataframe tbody tr th {\n",
       "        vertical-align: top;\n",
       "    }\n",
       "\n",
       "    .dataframe thead th {\n",
       "        text-align: right;\n",
       "    }\n",
       "</style>\n",
       "<table border=\"1\" class=\"dataframe\">\n",
       "  <thead>\n",
       "    <tr style=\"text-align: right;\">\n",
       "      <th></th>\n",
       "      <th>subscriber_type</th>\n",
       "      <th>trips</th>\n",
       "      <th>Percent</th>\n",
       "    </tr>\n",
       "  </thead>\n",
       "  <tbody>\n",
       "    <tr>\n",
       "      <th>0</th>\n",
       "      <td>Subscriber</td>\n",
       "      <td>846839</td>\n",
       "      <td>0.860917</td>\n",
       "    </tr>\n",
       "    <tr>\n",
       "      <th>1</th>\n",
       "      <td>Customer</td>\n",
       "      <td>136809</td>\n",
       "      <td>0.139083</td>\n",
       "    </tr>\n",
       "  </tbody>\n",
       "</table>\n",
       "</div>"
      ],
      "text/plain": [
       "  subscriber_type   trips   Percent\n",
       "0      Subscriber  846839  0.860917\n",
       "1        Customer  136809  0.139083"
      ]
     },
     "execution_count": 5,
     "metadata": {},
     "output_type": "execute_result"
    }
   ],
   "source": [
    "sub_types['Percent'] = sub_types['trips']/983648\n",
    "\n",
    "sub_types"
   ]
  },
  {
   "cell_type": "markdown",
   "metadata": {},
   "source": [
    "Currently, about 86% of Lyft Bay Wheels market are Subscribers so it is important to focus on keeping subscribers happy. In addition, increasing subscribers will be crucial to growing sales. I will be touching on both subscribers and nonsubscribers during my analysis."
   ]
  },
  {
   "cell_type": "markdown",
   "metadata": {},
   "source": [
    "# Overall Most Popular Bike Rides"
   ]
  },
  {
   "cell_type": "code",
   "execution_count": 7,
   "metadata": {},
   "outputs": [],
   "source": [
    "%%bigquery most_pop_rides\n",
    "\n",
    "select a.start_station_name,\n",
    "       b.landmark as start_lm,\n",
    "       a.end_station_name,\n",
    "       c.landmark as end_lm,\n",
    "       count(trip_id) as trips\n",
    "from `bigquery-public-data.san_francisco.bikeshare_trips` a\n",
    "left join `bigquery-public-data.san_francisco.bikeshare_stations` b\n",
    "on a.start_station_id = b.station_id\n",
    "left join `bigquery-public-data.san_francisco.bikeshare_stations` c\n",
    "on a.end_station_id = c.station_id\n",
    "group by 1,2,3,4\n",
    "order by trips desc\n",
    "limit 10"
   ]
  },
  {
   "cell_type": "code",
   "execution_count": 8,
   "metadata": {},
   "outputs": [
    {
     "data": {
      "text/html": [
       "<div>\n",
       "<style scoped>\n",
       "    .dataframe tbody tr th:only-of-type {\n",
       "        vertical-align: middle;\n",
       "    }\n",
       "\n",
       "    .dataframe tbody tr th {\n",
       "        vertical-align: top;\n",
       "    }\n",
       "\n",
       "    .dataframe thead th {\n",
       "        text-align: right;\n",
       "    }\n",
       "</style>\n",
       "<table border=\"1\" class=\"dataframe\">\n",
       "  <thead>\n",
       "    <tr style=\"text-align: right;\">\n",
       "      <th></th>\n",
       "      <th>start_station_name</th>\n",
       "      <th>start_lm</th>\n",
       "      <th>end_station_name</th>\n",
       "      <th>end_lm</th>\n",
       "      <th>trips</th>\n",
       "    </tr>\n",
       "  </thead>\n",
       "  <tbody>\n",
       "    <tr>\n",
       "      <th>0</th>\n",
       "      <td>Harry Bridges Plaza (Ferry Building)</td>\n",
       "      <td>San Francisco</td>\n",
       "      <td>Embarcadero at Sansome</td>\n",
       "      <td>San Francisco</td>\n",
       "      <td>9150</td>\n",
       "    </tr>\n",
       "    <tr>\n",
       "      <th>1</th>\n",
       "      <td>San Francisco Caltrain 2 (330 Townsend)</td>\n",
       "      <td>San Francisco</td>\n",
       "      <td>Townsend at 7th</td>\n",
       "      <td>San Francisco</td>\n",
       "      <td>8508</td>\n",
       "    </tr>\n",
       "    <tr>\n",
       "      <th>2</th>\n",
       "      <td>2nd at Townsend</td>\n",
       "      <td>San Francisco</td>\n",
       "      <td>Harry Bridges Plaza (Ferry Building)</td>\n",
       "      <td>San Francisco</td>\n",
       "      <td>7620</td>\n",
       "    </tr>\n",
       "    <tr>\n",
       "      <th>3</th>\n",
       "      <td>Harry Bridges Plaza (Ferry Building)</td>\n",
       "      <td>San Francisco</td>\n",
       "      <td>2nd at Townsend</td>\n",
       "      <td>San Francisco</td>\n",
       "      <td>6888</td>\n",
       "    </tr>\n",
       "    <tr>\n",
       "      <th>4</th>\n",
       "      <td>Embarcadero at Sansome</td>\n",
       "      <td>San Francisco</td>\n",
       "      <td>Steuart at Market</td>\n",
       "      <td>San Francisco</td>\n",
       "      <td>6874</td>\n",
       "    </tr>\n",
       "    <tr>\n",
       "      <th>5</th>\n",
       "      <td>Townsend at 7th</td>\n",
       "      <td>San Francisco</td>\n",
       "      <td>San Francisco Caltrain 2 (330 Townsend)</td>\n",
       "      <td>San Francisco</td>\n",
       "      <td>6836</td>\n",
       "    </tr>\n",
       "    <tr>\n",
       "      <th>6</th>\n",
       "      <td>Embarcadero at Folsom</td>\n",
       "      <td>San Francisco</td>\n",
       "      <td>San Francisco Caltrain (Townsend at 4th)</td>\n",
       "      <td>San Francisco</td>\n",
       "      <td>6351</td>\n",
       "    </tr>\n",
       "    <tr>\n",
       "      <th>7</th>\n",
       "      <td>San Francisco Caltrain (Townsend at 4th)</td>\n",
       "      <td>San Francisco</td>\n",
       "      <td>Harry Bridges Plaza (Ferry Building)</td>\n",
       "      <td>San Francisco</td>\n",
       "      <td>6215</td>\n",
       "    </tr>\n",
       "    <tr>\n",
       "      <th>8</th>\n",
       "      <td>Steuart at Market</td>\n",
       "      <td>San Francisco</td>\n",
       "      <td>2nd at Townsend</td>\n",
       "      <td>San Francisco</td>\n",
       "      <td>6039</td>\n",
       "    </tr>\n",
       "    <tr>\n",
       "      <th>9</th>\n",
       "      <td>Steuart at Market</td>\n",
       "      <td>San Francisco</td>\n",
       "      <td>San Francisco Caltrain (Townsend at 4th)</td>\n",
       "      <td>San Francisco</td>\n",
       "      <td>5959</td>\n",
       "    </tr>\n",
       "  </tbody>\n",
       "</table>\n",
       "</div>"
      ],
      "text/plain": [
       "                         start_station_name       start_lm  \\\n",
       "0      Harry Bridges Plaza (Ferry Building)  San Francisco   \n",
       "1   San Francisco Caltrain 2 (330 Townsend)  San Francisco   \n",
       "2                           2nd at Townsend  San Francisco   \n",
       "3      Harry Bridges Plaza (Ferry Building)  San Francisco   \n",
       "4                    Embarcadero at Sansome  San Francisco   \n",
       "5                           Townsend at 7th  San Francisco   \n",
       "6                     Embarcadero at Folsom  San Francisco   \n",
       "7  San Francisco Caltrain (Townsend at 4th)  San Francisco   \n",
       "8                         Steuart at Market  San Francisco   \n",
       "9                         Steuart at Market  San Francisco   \n",
       "\n",
       "                           end_station_name         end_lm  trips  \n",
       "0                    Embarcadero at Sansome  San Francisco   9150  \n",
       "1                           Townsend at 7th  San Francisco   8508  \n",
       "2      Harry Bridges Plaza (Ferry Building)  San Francisco   7620  \n",
       "3                           2nd at Townsend  San Francisco   6888  \n",
       "4                         Steuart at Market  San Francisco   6874  \n",
       "5   San Francisco Caltrain 2 (330 Townsend)  San Francisco   6836  \n",
       "6  San Francisco Caltrain (Townsend at 4th)  San Francisco   6351  \n",
       "7      Harry Bridges Plaza (Ferry Building)  San Francisco   6215  \n",
       "8                           2nd at Townsend  San Francisco   6039  \n",
       "9  San Francisco Caltrain (Townsend at 4th)  San Francisco   5959  "
      ]
     },
     "execution_count": 8,
     "metadata": {},
     "output_type": "execute_result"
    }
   ],
   "source": [
    "most_pop_rides"
   ]
  },
  {
   "cell_type": "markdown",
   "metadata": {},
   "source": [
    " The top 10 most popular trips are in San Francisco and they seem to be in similar stations. Focusing marketing efforts on specifically San Francisco compared to the other landmarks will help to increase sales and grow the user base. "
   ]
  },
  {
   "cell_type": "markdown",
   "metadata": {},
   "source": [
    "# Commuters"
   ]
  },
  {
   "cell_type": "markdown",
   "metadata": {},
   "source": [
    "Next I looked into commuter trips. I defined a commuter as having two trips, one before 12pm and one after. In addition the end location of the first trip must match the start location of the second trip and the end location of second trip matches the start location of first trip. This represents a back and forth type of commute. Lastly, I determined that only subscribers would be commuting because it does not make sense for commuters to get 24 hour or three day memberships if they are going to work five days a week. Below I identify the commuter trips and find which ones are most frequent."
   ]
  },
  {
   "cell_type": "code",
   "execution_count": 20,
   "metadata": {},
   "outputs": [],
   "source": [
    "%%bigquery top_commuter_trip\n",
    "\n",
    "select a.start_station_name,a.end_station_name,b.end_station_name as endd, count(a.trip_id) as trips, trip_back \n",
    "from `bigquery-public-data.san_francisco.bikeshare_trips` a \n",
    "left join (select start_station_name, \n",
    "                end_Station_name, \n",
    "                count(trip_id) as trip_back \n",
    "                from `bigquery-public-data.san_francisco.bikeshare_trips` \n",
    "                where subscriber_type = \"Subscriber\" and extract(dayofweek from start_date) in (2,3,4,5,6) and extract(hour from start_date) > 12\n",
    "                group by 1,2)b \n",
    "on a.end_Station_name = b.start_Station_name and a.start_station_name = b.end_Station_name \n",
    "where a.subscriber_type = \"Subscriber\" and extract(dayofweek from start_date) in (2,3,4,5,6) and extract(hour from start_date) < 13 group by 1,2,3,5 order by trips desc limit 100"
   ]
  },
  {
   "cell_type": "code",
   "execution_count": 21,
   "metadata": {},
   "outputs": [
    {
     "data": {
      "text/html": [
       "<div>\n",
       "<style scoped>\n",
       "    .dataframe tbody tr th:only-of-type {\n",
       "        vertical-align: middle;\n",
       "    }\n",
       "\n",
       "    .dataframe tbody tr th {\n",
       "        vertical-align: top;\n",
       "    }\n",
       "\n",
       "    .dataframe thead th {\n",
       "        text-align: right;\n",
       "    }\n",
       "</style>\n",
       "<table border=\"1\" class=\"dataframe\">\n",
       "  <thead>\n",
       "    <tr style=\"text-align: right;\">\n",
       "      <th></th>\n",
       "      <th>start_station_name</th>\n",
       "      <th>end_station_name</th>\n",
       "      <th>endd</th>\n",
       "      <th>trips</th>\n",
       "      <th>trip_back</th>\n",
       "    </tr>\n",
       "  </thead>\n",
       "  <tbody>\n",
       "    <tr>\n",
       "      <th>0</th>\n",
       "      <td>Harry Bridges Plaza (Ferry Building)</td>\n",
       "      <td>2nd at Townsend</td>\n",
       "      <td>Harry Bridges Plaza (Ferry Building)</td>\n",
       "      <td>5022</td>\n",
       "      <td>5202</td>\n",
       "    </tr>\n",
       "    <tr>\n",
       "      <th>1</th>\n",
       "      <td>San Francisco Caltrain 2 (330 Townsend)</td>\n",
       "      <td>Townsend at 7th</td>\n",
       "      <td>San Francisco Caltrain 2 (330 Townsend)</td>\n",
       "      <td>4563</td>\n",
       "      <td>4184</td>\n",
       "    </tr>\n",
       "    <tr>\n",
       "      <th>2</th>\n",
       "      <td>San Francisco Caltrain (Townsend at 4th)</td>\n",
       "      <td>Temporary Transbay Terminal (Howard at Beale)</td>\n",
       "      <td>San Francisco Caltrain (Townsend at 4th)</td>\n",
       "      <td>4473</td>\n",
       "      <td>4301</td>\n",
       "    </tr>\n",
       "    <tr>\n",
       "      <th>3</th>\n",
       "      <td>Steuart at Market</td>\n",
       "      <td>2nd at Townsend</td>\n",
       "      <td>Steuart at Market</td>\n",
       "      <td>4409</td>\n",
       "      <td>2886</td>\n",
       "    </tr>\n",
       "    <tr>\n",
       "      <th>4</th>\n",
       "      <td>Market at Sansome</td>\n",
       "      <td>2nd at South Park</td>\n",
       "      <td>Market at Sansome</td>\n",
       "      <td>3841</td>\n",
       "      <td>4145</td>\n",
       "    </tr>\n",
       "    <tr>\n",
       "      <th>...</th>\n",
       "      <td>...</td>\n",
       "      <td>...</td>\n",
       "      <td>...</td>\n",
       "      <td>...</td>\n",
       "      <td>...</td>\n",
       "    </tr>\n",
       "    <tr>\n",
       "      <th>95</th>\n",
       "      <td>San Francisco Caltrain (Townsend at 4th)</td>\n",
       "      <td>Post at Kearny</td>\n",
       "      <td>San Francisco Caltrain (Townsend at 4th)</td>\n",
       "      <td>873</td>\n",
       "      <td>1010</td>\n",
       "    </tr>\n",
       "    <tr>\n",
       "      <th>96</th>\n",
       "      <td>Embarcadero at Folsom</td>\n",
       "      <td>San Francisco Caltrain (Townsend at 4th)</td>\n",
       "      <td>Embarcadero at Folsom</td>\n",
       "      <td>872</td>\n",
       "      <td>550</td>\n",
       "    </tr>\n",
       "    <tr>\n",
       "      <th>97</th>\n",
       "      <td>Powell at Post (Union Square)</td>\n",
       "      <td>Howard at 2nd</td>\n",
       "      <td>Powell at Post (Union Square)</td>\n",
       "      <td>861</td>\n",
       "      <td>200</td>\n",
       "    </tr>\n",
       "    <tr>\n",
       "      <th>98</th>\n",
       "      <td>Beale at Market</td>\n",
       "      <td>Commercial at Montgomery</td>\n",
       "      <td>Beale at Market</td>\n",
       "      <td>861</td>\n",
       "      <td>317</td>\n",
       "    </tr>\n",
       "    <tr>\n",
       "      <th>99</th>\n",
       "      <td>San Jose Diridon Caltrain Station</td>\n",
       "      <td>Adobe on Almaden</td>\n",
       "      <td>San Jose Diridon Caltrain Station</td>\n",
       "      <td>853</td>\n",
       "      <td>908</td>\n",
       "    </tr>\n",
       "  </tbody>\n",
       "</table>\n",
       "<p>100 rows × 5 columns</p>\n",
       "</div>"
      ],
      "text/plain": [
       "                          start_station_name  \\\n",
       "0       Harry Bridges Plaza (Ferry Building)   \n",
       "1    San Francisco Caltrain 2 (330 Townsend)   \n",
       "2   San Francisco Caltrain (Townsend at 4th)   \n",
       "3                          Steuart at Market   \n",
       "4                          Market at Sansome   \n",
       "..                                       ...   \n",
       "95  San Francisco Caltrain (Townsend at 4th)   \n",
       "96                     Embarcadero at Folsom   \n",
       "97             Powell at Post (Union Square)   \n",
       "98                           Beale at Market   \n",
       "99         San Jose Diridon Caltrain Station   \n",
       "\n",
       "                                 end_station_name  \\\n",
       "0                                 2nd at Townsend   \n",
       "1                                 Townsend at 7th   \n",
       "2   Temporary Transbay Terminal (Howard at Beale)   \n",
       "3                                 2nd at Townsend   \n",
       "4                               2nd at South Park   \n",
       "..                                            ...   \n",
       "95                                 Post at Kearny   \n",
       "96       San Francisco Caltrain (Townsend at 4th)   \n",
       "97                                  Howard at 2nd   \n",
       "98                       Commercial at Montgomery   \n",
       "99                               Adobe on Almaden   \n",
       "\n",
       "                                        endd  trips  trip_back  \n",
       "0       Harry Bridges Plaza (Ferry Building)   5022       5202  \n",
       "1    San Francisco Caltrain 2 (330 Townsend)   4563       4184  \n",
       "2   San Francisco Caltrain (Townsend at 4th)   4473       4301  \n",
       "3                          Steuart at Market   4409       2886  \n",
       "4                          Market at Sansome   3841       4145  \n",
       "..                                       ...    ...        ...  \n",
       "95  San Francisco Caltrain (Townsend at 4th)    873       1010  \n",
       "96                     Embarcadero at Folsom    872        550  \n",
       "97             Powell at Post (Union Square)    861        200  \n",
       "98                           Beale at Market    861        317  \n",
       "99         San Jose Diridon Caltrain Station    853        908  \n",
       "\n",
       "[100 rows x 5 columns]"
      ]
     },
     "execution_count": 21,
     "metadata": {},
     "output_type": "execute_result"
    }
   ],
   "source": [
    "top_commuter_trip"
   ]
  },
  {
   "cell_type": "code",
   "execution_count": 22,
   "metadata": {},
   "outputs": [
    {
     "data": {
      "text/html": [
       "<div>\n",
       "<style scoped>\n",
       "    .dataframe tbody tr th:only-of-type {\n",
       "        vertical-align: middle;\n",
       "    }\n",
       "\n",
       "    .dataframe tbody tr th {\n",
       "        vertical-align: top;\n",
       "    }\n",
       "\n",
       "    .dataframe thead th {\n",
       "        text-align: right;\n",
       "    }\n",
       "</style>\n",
       "<table border=\"1\" class=\"dataframe\">\n",
       "  <thead>\n",
       "    <tr style=\"text-align: right;\">\n",
       "      <th></th>\n",
       "      <th>start_station_name</th>\n",
       "      <th>end_station_name</th>\n",
       "      <th>endd</th>\n",
       "      <th>trips</th>\n",
       "      <th>trip_back</th>\n",
       "      <th>total_commuter_trip</th>\n",
       "    </tr>\n",
       "  </thead>\n",
       "  <tbody>\n",
       "    <tr>\n",
       "      <th>0</th>\n",
       "      <td>Harry Bridges Plaza (Ferry Building)</td>\n",
       "      <td>2nd at Townsend</td>\n",
       "      <td>Harry Bridges Plaza (Ferry Building)</td>\n",
       "      <td>5022</td>\n",
       "      <td>5202</td>\n",
       "      <td>10224</td>\n",
       "    </tr>\n",
       "    <tr>\n",
       "      <th>1</th>\n",
       "      <td>San Francisco Caltrain (Townsend at 4th)</td>\n",
       "      <td>Embarcadero at Folsom</td>\n",
       "      <td>San Francisco Caltrain (Townsend at 4th)</td>\n",
       "      <td>3753</td>\n",
       "      <td>5156</td>\n",
       "      <td>8909</td>\n",
       "    </tr>\n",
       "    <tr>\n",
       "      <th>2</th>\n",
       "      <td>San Francisco Caltrain (Townsend at 4th)</td>\n",
       "      <td>Temporary Transbay Terminal (Howard at Beale)</td>\n",
       "      <td>San Francisco Caltrain (Townsend at 4th)</td>\n",
       "      <td>4473</td>\n",
       "      <td>4301</td>\n",
       "      <td>8774</td>\n",
       "    </tr>\n",
       "    <tr>\n",
       "      <th>3</th>\n",
       "      <td>San Francisco Caltrain 2 (330 Townsend)</td>\n",
       "      <td>Townsend at 7th</td>\n",
       "      <td>San Francisco Caltrain 2 (330 Townsend)</td>\n",
       "      <td>4563</td>\n",
       "      <td>4184</td>\n",
       "      <td>8747</td>\n",
       "    </tr>\n",
       "    <tr>\n",
       "      <th>4</th>\n",
       "      <td>Steuart at Market</td>\n",
       "      <td>Embarcadero at Sansome</td>\n",
       "      <td>Steuart at Market</td>\n",
       "      <td>3227</td>\n",
       "      <td>4811</td>\n",
       "      <td>8038</td>\n",
       "    </tr>\n",
       "  </tbody>\n",
       "</table>\n",
       "</div>"
      ],
      "text/plain": [
       "                         start_station_name  \\\n",
       "0      Harry Bridges Plaza (Ferry Building)   \n",
       "1  San Francisco Caltrain (Townsend at 4th)   \n",
       "2  San Francisco Caltrain (Townsend at 4th)   \n",
       "3   San Francisco Caltrain 2 (330 Townsend)   \n",
       "4                         Steuart at Market   \n",
       "\n",
       "                                end_station_name  \\\n",
       "0                                2nd at Townsend   \n",
       "1                          Embarcadero at Folsom   \n",
       "2  Temporary Transbay Terminal (Howard at Beale)   \n",
       "3                                Townsend at 7th   \n",
       "4                         Embarcadero at Sansome   \n",
       "\n",
       "                                       endd  trips  trip_back  \\\n",
       "0      Harry Bridges Plaza (Ferry Building)   5022       5202   \n",
       "1  San Francisco Caltrain (Townsend at 4th)   3753       5156   \n",
       "2  San Francisco Caltrain (Townsend at 4th)   4473       4301   \n",
       "3   San Francisco Caltrain 2 (330 Townsend)   4563       4184   \n",
       "4                         Steuart at Market   3227       4811   \n",
       "\n",
       "   total_commuter_trip  \n",
       "0                10224  \n",
       "1                 8909  \n",
       "2                 8774  \n",
       "3                 8747  \n",
       "4                 8038  "
      ]
     },
     "execution_count": 22,
     "metadata": {},
     "output_type": "execute_result"
    }
   ],
   "source": [
    "top_commuter_trip['total_commuter_trip'] = top_commuter_trip['trips']+top_commuter_trip['trip_back']\n",
    "top_commuter_trip.sort_values(by=['total_commuter_trip'], ascending= False).head(5).reset_index().drop('index', axis=1)"
   ]
  },
  {
   "cell_type": "markdown",
   "metadata": {},
   "source": [
    "By looking at the top commuter trips we can determine where our subscribers are going and have special offers to keep them happy. The commuter trips should be priced lower than non-commuter trips due to more usage. In turn, commuters will promote our great prices and ease of use to their coworkers to grow our market. Having a strong subscriber growth is essential in growing the company and increasing profits."
   ]
  },
  {
   "cell_type": "markdown",
   "metadata": {},
   "source": [
    "# Non-Commuters(tourists or locals)"
   ]
  },
  {
   "cell_type": "markdown",
   "metadata": {},
   "source": [
    "Although subscribers make up a large portion of people who use our product, we can also increase sales through a higher pricing model to people who do not have an annual or monthly subscription. This can be tourists or locals who only need to get around the city for 1-2 days at a time. "
   ]
  },
  {
   "cell_type": "code",
   "execution_count": 11,
   "metadata": {},
   "outputs": [],
   "source": [
    "%%bigquery customer_week\n",
    "\n",
    "select extract (dayofweek from a.start_Date) as day,\n",
    "      count(a.trip_id) as customer_trips,\n",
    "      b.subscriber_trip\n",
    "from `bigquery-public-data.san_francisco.bikeshare_trips` a \n",
    "left join (select extract (dayofweek from start_Date) as day,\n",
    "                  count(trip_id) as subscriber_trip\n",
    "        from `bigquery-public-data.san_francisco.bikeshare_trips`\n",
    "        where subscriber_type = \"Subscriber\"\n",
    "        group by 1) b\n",
    "on extract(dayofweek from a.start_Date) = b.day\n",
    "where a.subscriber_type = \"Customer\"\n",
    "group by 1,3\n",
    "order by day asc"
   ]
  },
  {
   "cell_type": "code",
   "execution_count": 12,
   "metadata": {},
   "outputs": [
    {
     "data": {
      "text/plain": [
       "Text(0.5, 1.0, 'Customer Trip Days')"
      ]
     },
     "execution_count": 12,
     "metadata": {},
     "output_type": "execute_result"
    },
    {
     "data": {
      "image/png": "[encoded data removed]",
      "text/plain": [
       "<Figure size 432x288 with 1 Axes>"
      ]
     },
     "metadata": {
      "needs_background": "light"
     },
     "output_type": "display_data"
    }
   ],
   "source": [
    "customer_week_1 = customer_week.drop('subscriber_trip', axis=1)\n",
    "customer_week_2 = customer_week.drop('customer_trips', axis=1)\n",
    "\n",
    "sns.lineplot(x='day',y='customer_trips',data=customer_week_1).set_title(\"Customer Trip Days\")\n"
   ]
  },
  {
   "cell_type": "code",
   "execution_count": 13,
   "metadata": {},
   "outputs": [
    {
     "data": {
      "text/plain": [
       "Text(0.5, 1.0, 'Subscriber Trip Days')"
      ]
     },
     "execution_count": 13,
     "metadata": {},
     "output_type": "execute_result"
    },
    {
     "data": {
      "image/png": "[encoded data removed]",
      "text/plain": [
       "<Figure size 432x288 with 1 Axes>"
      ]
     },
     "metadata": {
      "needs_background": "light"
     },
     "output_type": "display_data"
    }
   ],
   "source": [
    "sns.lineplot(x='day', y='subscriber_trip', data=customer_week_2).set_title(\"Subscriber Trip Days\")"
   ]
  },
  {
   "cell_type": "code",
   "execution_count": 24,
   "metadata": {},
   "outputs": [
    {
     "data": {
      "text/html": [
       "<div>\n",
       "<style scoped>\n",
       "    .dataframe tbody tr th:only-of-type {\n",
       "        vertical-align: middle;\n",
       "    }\n",
       "\n",
       "    .dataframe tbody tr th {\n",
       "        vertical-align: top;\n",
       "    }\n",
       "\n",
       "    .dataframe thead th {\n",
       "        text-align: right;\n",
       "    }\n",
       "</style>\n",
       "<table border=\"1\" class=\"dataframe\">\n",
       "  <thead>\n",
       "    <tr style=\"text-align: right;\">\n",
       "      <th></th>\n",
       "      <th>day</th>\n",
       "      <th>customer_trips</th>\n",
       "      <th>subscriber_trip</th>\n",
       "    </tr>\n",
       "  </thead>\n",
       "  <tbody>\n",
       "    <tr>\n",
       "      <th>0</th>\n",
       "      <td>1</td>\n",
       "      <td>25908</td>\n",
       "      <td>25467</td>\n",
       "    </tr>\n",
       "    <tr>\n",
       "      <th>1</th>\n",
       "      <td>2</td>\n",
       "      <td>15142</td>\n",
       "      <td>154795</td>\n",
       "    </tr>\n",
       "    <tr>\n",
       "      <th>2</th>\n",
       "      <td>3</td>\n",
       "      <td>14737</td>\n",
       "      <td>169668</td>\n",
       "    </tr>\n",
       "    <tr>\n",
       "      <th>3</th>\n",
       "      <td>4</td>\n",
       "      <td>15237</td>\n",
       "      <td>165530</td>\n",
       "    </tr>\n",
       "    <tr>\n",
       "      <th>4</th>\n",
       "      <td>5</td>\n",
       "      <td>16612</td>\n",
       "      <td>160296</td>\n",
       "    </tr>\n",
       "    <tr>\n",
       "      <th>5</th>\n",
       "      <td>6</td>\n",
       "      <td>19929</td>\n",
       "      <td>140048</td>\n",
       "    </tr>\n",
       "    <tr>\n",
       "      <th>6</th>\n",
       "      <td>7</td>\n",
       "      <td>29244</td>\n",
       "      <td>31035</td>\n",
       "    </tr>\n",
       "  </tbody>\n",
       "</table>\n",
       "</div>"
      ],
      "text/plain": [
       "   day  customer_trips  subscriber_trip\n",
       "0    1           25908            25467\n",
       "1    2           15142           154795\n",
       "2    3           14737           169668\n",
       "3    4           15237           165530\n",
       "4    5           16612           160296\n",
       "5    6           19929           140048\n",
       "6    7           29244            31035"
      ]
     },
     "execution_count": 24,
     "metadata": {},
     "output_type": "execute_result"
    }
   ],
   "source": [
    "customer_week"
   ]
  },
  {
   "cell_type": "markdown",
   "metadata": {},
   "source": [
    "From the two graphs, customers (24hour-3day) use Lyft Bay Wheels more on weekends when compared to subscribers that use it mostly on weekdays. This might be attributed to tourists visiting San Francisco and SF residents going out on the weekends over weekdays. There is a huge potential to grow the platform towards even more tourists on weekends and increase customer growth. Below, I show the top 5 trips on weekends for customers that can be used as a marketing tool to show how easy it is to get around. "
   ]
  },
  {
   "cell_type": "code",
   "execution_count": 25,
   "metadata": {},
   "outputs": [],
   "source": [
    "%%bigquery top_customer_trip_weekend\n",
    "\n",
    "select a.start_station_name, a.end_station_name, count(trip_id) as trips \n",
    "from `bigquery-public-data.san_francisco.bikeshare_trips` a \n",
    "where extract(dayofweek from start_date) in (1,7) \n",
    "group by 1,2 \n",
    "order by trips desc \n",
    "limit 5"
   ]
  },
  {
   "cell_type": "code",
   "execution_count": 26,
   "metadata": {},
   "outputs": [
    {
     "data": {
      "text/html": [
       "<div>\n",
       "<style scoped>\n",
       "    .dataframe tbody tr th:only-of-type {\n",
       "        vertical-align: middle;\n",
       "    }\n",
       "\n",
       "    .dataframe tbody tr th {\n",
       "        vertical-align: top;\n",
       "    }\n",
       "\n",
       "    .dataframe thead th {\n",
       "        text-align: right;\n",
       "    }\n",
       "</style>\n",
       "<table border=\"1\" class=\"dataframe\">\n",
       "  <thead>\n",
       "    <tr style=\"text-align: right;\">\n",
       "      <th></th>\n",
       "      <th>start_station_name</th>\n",
       "      <th>end_station_name</th>\n",
       "      <th>trips</th>\n",
       "    </tr>\n",
       "  </thead>\n",
       "  <tbody>\n",
       "    <tr>\n",
       "      <th>0</th>\n",
       "      <td>Harry Bridges Plaza (Ferry Building)</td>\n",
       "      <td>Embarcadero at Sansome</td>\n",
       "      <td>2078</td>\n",
       "    </tr>\n",
       "    <tr>\n",
       "      <th>1</th>\n",
       "      <td>Embarcadero at Sansome</td>\n",
       "      <td>Harry Bridges Plaza (Ferry Building)</td>\n",
       "      <td>1183</td>\n",
       "    </tr>\n",
       "    <tr>\n",
       "      <th>2</th>\n",
       "      <td>Embarcadero at Sansome</td>\n",
       "      <td>Embarcadero at Sansome</td>\n",
       "      <td>1146</td>\n",
       "    </tr>\n",
       "    <tr>\n",
       "      <th>3</th>\n",
       "      <td>Harry Bridges Plaza (Ferry Building)</td>\n",
       "      <td>Harry Bridges Plaza (Ferry Building)</td>\n",
       "      <td>1122</td>\n",
       "    </tr>\n",
       "    <tr>\n",
       "      <th>4</th>\n",
       "      <td>Embarcadero at Bryant</td>\n",
       "      <td>Embarcadero at Sansome</td>\n",
       "      <td>701</td>\n",
       "    </tr>\n",
       "  </tbody>\n",
       "</table>\n",
       "</div>"
      ],
      "text/plain": [
       "                     start_station_name                      end_station_name  \\\n",
       "0  Harry Bridges Plaza (Ferry Building)                Embarcadero at Sansome   \n",
       "1                Embarcadero at Sansome  Harry Bridges Plaza (Ferry Building)   \n",
       "2                Embarcadero at Sansome                Embarcadero at Sansome   \n",
       "3  Harry Bridges Plaza (Ferry Building)  Harry Bridges Plaza (Ferry Building)   \n",
       "4                 Embarcadero at Bryant                Embarcadero at Sansome   \n",
       "\n",
       "   trips  \n",
       "0   2078  \n",
       "1   1183  \n",
       "2   1146  \n",
       "3   1122  \n",
       "4    701  "
      ]
     },
     "execution_count": 26,
     "metadata": {},
     "output_type": "execute_result"
    }
   ],
   "source": [
    "top_customer_trip_weekend"
   ]
  },
  {
   "cell_type": "markdown",
   "metadata": {},
   "source": [
    "# Monthly and Daily Trends"
   ]
  },
  {
   "cell_type": "markdown",
   "metadata": {},
   "source": [
    "We can further look into the times of day for weekends when it is popular and do a monthly trend analysis."
   ]
  },
  {
   "cell_type": "code",
   "execution_count": 47,
   "metadata": {},
   "outputs": [],
   "source": [
    "%%bigquery time_of_day\n",
    "\n",
    "select extract(hour from start_date) as hour, count(trip_id) as trips from `bigquery-public-data.san_francisco.bikeshare_trips` a where extract(dayofweek from start_date) in (1,7) group by 1 order by hour asc\n"
   ]
  },
  {
   "cell_type": "code",
   "execution_count": 28,
   "metadata": {},
   "outputs": [
    {
     "data": {
      "text/plain": [
       "Text(0.5, 1.0, 'Hour of Day')"
      ]
     },
     "execution_count": 28,
     "metadata": {},
     "output_type": "execute_result"
    },
    {
     "data": {
      "image/png": "[encoded data removed]",
      "text/plain": [
       "<Figure size 432x288 with 1 Axes>"
      ]
     },
     "metadata": {
      "needs_background": "light"
     },
     "output_type": "display_data"
    }
   ],
   "source": [
    "sns.lineplot(x='hour', y='trips', data=time_of_day).set_title(\"Hour of Day\")"
   ]
  },
  {
   "cell_type": "markdown",
   "metadata": {},
   "source": [
    "During weekends the most popular hours of the day are between 10:00 and 15:00 military time. Lyft should try to market their products competitively during peak hours to try and increase profits. This includes both subscribers and customers as most people do not work during weekends and are trying to explore the city."
   ]
  },
  {
   "cell_type": "markdown",
   "metadata": {},
   "source": [
    "Next I did an analysis based on monthly trends."
   ]
  },
  {
   "cell_type": "code",
   "execution_count": 15,
   "metadata": {},
   "outputs": [],
   "source": [
    "%%bigquery monthly\n",
    "\n",
    "select date(extract(year from start_date),extract(month from start_date),1) as date, count(trip_id) as trips \n",
    "from `bigquery-public-data.san_francisco.bikeshare_trips` \n",
    "where date(extract(year from start_date),extract(month from start_date),1) <> \"2013-08-01\" \n",
    "group by 1 \n",
    "order by date asc"
   ]
  },
  {
   "cell_type": "code",
   "execution_count": 18,
   "metadata": {},
   "outputs": [
    {
     "data": {
      "image/png": "[encoded data removed]",
      "text/plain": [
       "<Figure size 720x360 with 1 Axes>"
      ]
     },
     "metadata": {
      "needs_background": "light"
     },
     "output_type": "display_data"
    }
   ],
   "source": [
    "plt.figure(figsize=(10,5))\n",
    "ax = sns.lineplot(x='date',y='trips', data=monthly).set_title('Monthly Rides')"
   ]
  },
  {
   "cell_type": "markdown",
   "metadata": {},
   "source": [
    "The graph above shows monthly rides from September 2013 to September 2016. We can see a strong seasonal trend amongst all users. There seems to be a consistent dip between the months of November through January for the past 3 years. This could be due to weather getting slightly colder and rainier during the winter months. We can take this information and run promotions to try and increase trips during these off months or use the time to improve stations and repair bikes. "
   ]
  },
  {
   "cell_type": "markdown",
   "metadata": {},
   "source": [
    "# Final Suggestions\n",
    "\n",
    "My recommendations for offers is to have 1 day, 3 day, commuter option, and annual pass. The 1 and 3 days passes are specifically marketed towards tourists who are on vacation and users who do not need the commuter option. This gives them the opportunity to only pay for weekends where they want to explore the city. Also, the 1 and 3 day passes will be priced slightly higher per day than the commuter and annual pass option. Lastly, focusing marketing efforts on weekends and showing the various places that Lyft Bay Wheel Stations are available will provide new customers with a plan to explore as much of the city as possible in the limited time they have.\n",
    "\n",
    "For the commuter option, this will be specifically marketed towards those who commute to work everyday. This pass gives 2 rides per day excluding weekends as a monthly flat rate subscription. Additional rides on weekends can be purchased at a discounted rate. From the above top 5 commuter routes, we see that all of the top commuter routes are above 8000 trips. By having this option for commuters, we can have a steady revenue base while also providing a convenient and eco-friendly way for them to travel. \n",
    "\n",
    "The last option Lyft Bay Wheels should offer is the annual pass. This pass is marketed towards those who commute but also like to get out an explore the city every weekend. This pass is a flat annual fee that boasts up to 4 rides per day including weekends. This is for those who commute but also are active on the weekends. \n",
    "\n",
    "These 4 pass options will help Lyft Bay Wheels continue their subscriber growth in addition to getting into new customer markets. On the last graph regarding monthly usages, Lyft should offer promotions during the winter season months to get more people using the product. This can be done by giving annual pass users options to give their friend a free ride or do have discounted rates for 1 or 3 day passes."
   ]
  },
  {
   "cell_type": "code",
   "execution_count": null,
   "metadata": {},
   "outputs": [],
   "source": []
  }
 ],
 "metadata": {
  "kernelspec": {
   "display_name": "Python 3",
   "language": "python",
   "name": "python3"
  },
  "language_info": {
   "codemirror_mode": {
    "name": "ipython",
    "version": 3
   },
   "file_extension": ".py",
   "mimetype": "text/x-python",
   "name": "python",
   "nbconvert_exporter": "python",
   "pygments_lexer": "ipython3",
   "version": "3.7.3"
  }
 },
 "nbformat": 4,
 "nbformat_minor": 4
}
